{
 "cells": [
  {
   "cell_type": "code",
   "execution_count": 1,
   "metadata": {
    "scrolled": true
   },
   "outputs": [],
   "source": [
    "import folium\n",
    "from folium.plugins import MarkerCluster\n",
    "import pandas as pd\n",
    "import pdb\n",
    "\n",
    "map = folium.Map(location=[38.954069, -95.254512], tiles=\"OpenStreetMap\",\n",
    "                 zoom_start=3, control_scale=True,)\n",
    "\n",
    "# cluster = MarkerCluster().add_to(map)\n",
    "\n",
    "# folium.Marker(location=[48.86762, 2.3624], popup=\"text\").add_to(cluster)\n",
    "# folium.Marker(location=[48.86762, 2.3625], popup=\"text1\").add_to(cluster)\n",
    "# folium.Marker(location=[48.86762, 2.3626], popup=\"text2 + <br> + text5 + <br> + text6\").add_to(cluster)\n",
    "\n",
    "# folium.Marker(location=[48.86762, 2.3624], popup=\"text\").add_to(map)\n",
    "df = pd.read_csv('restaurants_geodata.csv')\n",
    "# print(df)\n",
    "\n",
    "# count = 0\n",
    "\n",
    "cluster = MarkerCluster().add_to(map)\n",
    "\n",
    "for point, row in df.iterrows():\n",
    "    # if count == 7:\n",
    "    #     break\n",
    "    Latitude = df.at[point, \"latitude\"]\n",
    "    Longitude = df.at[point, \"longitude\"]\n",
    "    # restaurant = df.at[point, \"Restaurant address\"]\n",
    "\n",
    "    popup = str(df.at[point, \"Location name\"]) + \"<br>\" + \\\n",
    "        str(df.at[point, \"Challenge name\"]) + \"<br>\" + \\\n",
    "        str(df.at[point, \"Restaurant address\"])\n",
    "    \n",
    "    popup = \"testing\"\n",
    "\n",
    "    folium.Marker(location=[Latitude, Longitude], popup=popup).add_to(cluster)\n",
    "    # print(Latitude, Longitude, popup)\n",
    "    # count += 1"
   ]
  },
  {
   "cell_type": "code",
   "execution_count": null,
   "metadata": {},
   "outputs": [],
   "source": []
  },
  {
   "cell_type": "code",
   "execution_count": null,
   "metadata": {
    "scrolled": false
   },
   "outputs": [],
   "source": []
  },
  {
   "cell_type": "code",
   "execution_count": null,
   "metadata": {},
   "outputs": [],
   "source": []
  },
  {
   "cell_type": "code",
   "execution_count": null,
   "metadata": {},
   "outputs": [],
   "source": []
  },
  {
   "cell_type": "code",
   "execution_count": null,
   "metadata": {},
   "outputs": [],
   "source": []
  },
  {
   "cell_type": "code",
   "execution_count": null,
   "metadata": {},
   "outputs": [],
   "source": []
  }
 ],
 "metadata": {
  "kernelspec": {
   "display_name": "Python 3",
   "language": "python",
   "name": "python3"
  },
  "language_info": {
   "codemirror_mode": {
    "name": "ipython",
    "version": 3
   },
   "file_extension": ".py",
   "mimetype": "text/x-python",
   "name": "python",
   "nbconvert_exporter": "python",
   "pygments_lexer": "ipython3",
   "version": "3.8.1"
  }
 },
 "nbformat": 4,
 "nbformat_minor": 4
}
